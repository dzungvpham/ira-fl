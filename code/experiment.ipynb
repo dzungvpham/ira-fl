{
 "cells": [
  {
   "cell_type": "code",
   "execution_count": 1,
   "metadata": {},
   "outputs": [],
   "source": [
    "import matplotlib.pyplot as plt\n",
    "import random\n",
    "import torch\n",
    "from attack import (\n",
    "    reconstruct_interactions,\n",
    ")\n",
    "from ranker import (\n",
    "    LinearPDGDRanker,\n",
    "    Neural1LayerPDGDRanker,\n",
    "    Neural2LayerPDGDRanker,\n",
    "    CollaborativeFilteringRecommender,\n",
    ")\n",
    "from tqdm import tqdm\n",
    "from utils import Metrics"
   ]
  },
  {
   "cell_type": "code",
   "execution_count": 33,
   "metadata": {},
   "outputs": [
    {
     "name": "stderr",
     "output_type": "stream",
     "text": [
      "100%|██████████| 1/1 [00:49<00:00, 49.41s/it]\n"
     ]
    }
   ],
   "source": [
    "# Simulation for LTR\n",
    "\n",
    "torch.manual_seed(2023)\n",
    "random.seed(2023)\n",
    "\n",
    "num_sim_round = 1\n",
    "num_features = 100\n",
    "num_data = 1000\n",
    "lr = 1e-01\n",
    "max_iters = 1000\n",
    "num_atk = 1\n",
    "\n",
    "metrics = Metrics()\n",
    "\n",
    "models = {\n",
    "    \"linear_pdgd\": LinearPDGDRanker(num_features),\n",
    "    # \"neural_1_pdgd\": Neural1LayerPDGDRanker(num_features, hidden_size=5),\n",
    "    # \"neural_2_pdgd\": Neural2LayerPDGDRanker(\n",
    "    #     num_features, hidden_size=4, hidden_size2=2\n",
    "    # ),\n",
    "}\n",
    "\n",
    "for _ in tqdm(range(num_sim_round)):\n",
    "    features = torch.rand(num_data, num_features) * 2 - 1\n",
    "    interactions = torch.randint(0, 2, (num_data,))\n",
    "    while interactions.sum() == 0:\n",
    "        interactions = torch.randint(0, 2, (num_data,))\n",
    "    ranking = list(range(num_data))\n",
    "    random.shuffle(ranking)\n",
    "    ranking = torch.LongTensor(ranking)\n",
    "\n",
    "    for model_name, model in models.items():\n",
    "        params = model.gen_params()\n",
    "        log_pos_bias_weight = model.calc_log_pos_bias_weight(\n",
    "            ranking, model.forward_multiple(params, features), num_data\n",
    "        )\n",
    "        \n",
    "        target = model.grad(\n",
    "            params,\n",
    "            features,\n",
    "            ranking,\n",
    "            interactions,\n",
    "            log_pos_bias_weight=log_pos_bias_weight,\n",
    "        )\n",
    "\n",
    "        preds_raw = reconstruct_interactions(\n",
    "            lambda I: model.grad(\n",
    "                params, features, ranking, I, log_pos_bias_weight=log_pos_bias_weight\n",
    "            ),\n",
    "            target,\n",
    "            num_data,\n",
    "            lr=lr,\n",
    "            max_iters=max_iters,\n",
    "            num_rounds=num_atk,\n",
    "            return_raw=True,\n",
    "        )\n",
    "        preds = preds_raw.sigmoid().round().long()\n",
    "\n",
    "        metrics.update(model_name, interactions, preds, preds_raw=preds_raw)"
   ]
  },
  {
   "cell_type": "code",
   "execution_count": 34,
   "metadata": {},
   "outputs": [
    {
     "name": "stdout",
     "output_type": "stream",
     "text": [
      "          name  accuracy        f1  precision    recall       auc   auc-pr  extra_data\n",
      "0  linear_pdgd     0.591  0.590591       0.59  0.591182  0.651251  0.65025         NaN\n"
     ]
    }
   ],
   "source": [
    "print(metrics.get_dataframe().to_string())"
   ]
  },
  {
   "cell_type": "code",
   "execution_count": 2,
   "metadata": {},
   "outputs": [
    {
     "name": "stderr",
     "output_type": "stream",
     "text": [
      "100%|██████████| 10/10 [00:28<00:00,  2.81s/it]\n"
     ]
    }
   ],
   "source": [
    "# Simulation for collaborative filtering\n",
    "\n",
    "torch.manual_seed(2023)\n",
    "random.seed(2023)\n",
    "\n",
    "num_sim_round = 10\n",
    "num_features = 64\n",
    "num_data = 1000\n",
    "lr = 1e-01\n",
    "max_iters = 100000\n",
    "num_atk = 10\n",
    "\n",
    "metrics = Metrics()\n",
    "\n",
    "for _ in tqdm(range(num_sim_round)):\n",
    "    features = torch.rand(num_data, num_features) * 2 - 1\n",
    "    user_embedding = torch.rand(num_features) * 2 - 1\n",
    "\n",
    "    interactions = torch.randint(0, 2, (num_data,))\n",
    "    while interactions.sum() == 0:\n",
    "        interactions = torch.randint(0, 2, (num_data,))\n",
    "\n",
    "    cf_rec = CollaborativeFilteringRecommender()\n",
    "    target = cf_rec.federated_item_grad(user_embedding, features, interactions)\n",
    "\n",
    "    user_embedding2 = torch.rand(num_features) * 2 - 1\n",
    "    preds_raw = reconstruct_interactions(\n",
    "        lambda I: cf_rec.federated_item_grad(user_embedding2, features, I),\n",
    "        target,\n",
    "        num_data,\n",
    "        lr=lr,\n",
    "        max_iters=max_iters,\n",
    "        num_rounds=num_atk,\n",
    "        return_raw=True,\n",
    "    )\n",
    "    preds = preds_raw.sigmoid().round().long()\n",
    "\n",
    "    metrics.update(\"FCF_simple\", interactions, preds, preds_raw=preds_raw)\n",
    "\n",
    "    preds_raw, user_embedding_est = reconstruct_interactions(\n",
    "        lambda I, U: cf_rec.federated_item_grad(U, features, I),\n",
    "        target,\n",
    "        num_data,\n",
    "        num_features,\n",
    "        lr=lr,\n",
    "        max_iters=max_iters,\n",
    "        num_rounds=num_atk,\n",
    "        return_raw=True,\n",
    "    )\n",
    "    preds = preds_raw.sigmoid().round().long()\n",
    "    \n",
    "    metrics.update(\"FCF_private\", interactions, preds, preds_raw=preds_raw)"
   ]
  },
  {
   "cell_type": "code",
   "execution_count": 3,
   "metadata": {},
   "outputs": [
    {
     "name": "stdout",
     "output_type": "stream",
     "text": [
      "           name  accuracy        f1  precision    recall       auc    auc-pr  extra_data\n",
      "0    FCF_simple     0.490  0.442013   0.473068  0.414784  0.482142  0.474352         NaN\n",
      "1   FCF_private     1.000  1.000000   1.000000  1.000000  1.000000  1.000000         NaN\n",
      "2    FCF_simple     0.535  0.499462   0.538283  0.465863  0.543491  0.521505         NaN\n",
      "3   FCF_private     1.000  1.000000   1.000000  1.000000  1.000000  1.000000         NaN\n",
      "4    FCF_simple     0.514  0.463576   0.515971  0.420842  0.533436  0.525098         NaN\n",
      "5   FCF_private     1.000  1.000000   1.000000  1.000000  1.000000  1.000000         NaN\n",
      "6    FCF_simple     0.453  0.392897   0.449239  0.349112  0.459442  0.479490         NaN\n",
      "7   FCF_private     1.000  1.000000   1.000000  1.000000  1.000000  1.000000         NaN\n",
      "8    FCF_simple     0.490  0.443231   0.491525  0.403579  0.489538  0.507753         NaN\n",
      "9   FCF_private     1.000  1.000000   1.000000  1.000000  1.000000  1.000000         NaN\n",
      "10   FCF_simple     0.497  0.451472   0.469388  0.434874  0.508287  0.494884         NaN\n",
      "11  FCF_private     1.000  1.000000   1.000000  1.000000  1.000000  1.000000         NaN\n",
      "12   FCF_simple     0.481  0.448459   0.489559  0.413725  0.472213  0.486920         NaN\n",
      "13  FCF_private     1.000  1.000000   1.000000  1.000000  1.000000  1.000000         NaN\n",
      "14   FCF_simple     0.523  0.471761   0.502358  0.444676  0.521732  0.502518         NaN\n",
      "15  FCF_private     1.000  1.000000   1.000000  1.000000  1.000000  1.000000         NaN\n",
      "16   FCF_simple     0.502  0.480167   0.503282  0.459082  0.475234  0.485715         NaN\n",
      "17  FCF_private     1.000  1.000000   1.000000  1.000000  1.000000  1.000000         NaN\n",
      "18   FCF_simple     0.483  0.434973   0.486553  0.393281  0.461234  0.477936         NaN\n",
      "19  FCF_private     1.000  1.000000   1.000000  1.000000  1.000000  1.000000         NaN\n"
     ]
    }
   ],
   "source": [
    "print(metrics.get_dataframe().to_string())"
   ]
  }
 ],
 "metadata": {
  "kernelspec": {
   "display_name": "ira",
   "language": "python",
   "name": "python3"
  },
  "language_info": {
   "codemirror_mode": {
    "name": "ipython",
    "version": 3
   },
   "file_extension": ".py",
   "mimetype": "text/x-python",
   "name": "python",
   "nbconvert_exporter": "python",
   "pygments_lexer": "ipython3",
   "version": "3.11.3"
  },
  "orig_nbformat": 4
 },
 "nbformat": 4,
 "nbformat_minor": 2
}
